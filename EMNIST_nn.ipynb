{
  "nbformat": 4,
  "nbformat_minor": 0,
  "metadata": {
    "colab": {
      "name": "EMNIST_nn.ipynb",
      "provenance": [],
      "collapsed_sections": [],
      "authorship_tag": "ABX9TyM8EckerkxnS7gfnQwx8+Nu",
      "include_colab_link": true
    },
    "kernelspec": {
      "name": "python3",
      "display_name": "Python 3"
    }
  },
  "cells": [
    {
      "cell_type": "markdown",
      "metadata": {
        "id": "view-in-github",
        "colab_type": "text"
      },
      "source": [
        "<a href=\"https://colab.research.google.com/github/vietnguyen99/EMNIST-Hand-Written-Recognition-AI/blob/main/EMNIST_nn.ipynb\" target=\"_parent\"><img src=\"https://colab.research.google.com/assets/colab-badge.svg\" alt=\"Open In Colab\"/></a>"
      ]
    },
    {
      "cell_type": "code",
      "metadata": {
        "colab": {
          "base_uri": "https://localhost:8080/"
        },
        "id": "LHldfq4JCUMA",
        "outputId": "292c375c-3aea-4829-834b-53c5052a34f3"
      },
      "source": [
        "!git clone https://github.com/sorki/python-mnist\n",
        "!./python-mnist/bin/mnist_get_data.sh\n",
        "!pip3 install emnist\n",
        "from emnist import extract_training_samples\n",
        "import matplotlib.pyplot as plt\n",
        "from sklearn.datasets import fetch_openml\n",
        "from sklearn.neural_network import MLPClassifier\n",
        "import cv2\n",
        "from google.colab.patches import cv2_imshow\n",
        "import numpy"
      ],
      "execution_count": null,
      "outputs": [
        {
          "output_type": "stream",
          "text": [
            "Cloning into 'python-mnist'...\n",
            "remote: Enumerating objects: 240, done.\u001b[K\n",
            "remote: Total 240 (delta 0), reused 0 (delta 0), pack-reused 240\n",
            "Receiving objects: 100% (240/240), 44.93 KiB | 754.00 KiB/s, done.\n",
            "Resolving deltas: 100% (118/118), done.\n",
            "--2020-12-14 19:58:46--  http://yann.lecun.com/exdb/mnist/\n",
            "Resolving yann.lecun.com (yann.lecun.com)... 104.28.6.204, 104.28.7.204, 172.67.171.76, ...\n",
            "Connecting to yann.lecun.com (yann.lecun.com)|104.28.6.204|:80... connected.\n",
            "HTTP request sent, awaiting response... 200 OK\n",
            "Length: unspecified [text/html]\n",
            "Saving to: ‘data/index.html.tmp’\n",
            "\n",
            "index.html.tmp          [ <=>                ]  28.49K  --.-KB/s    in 0.001s  \n",
            "\n",
            "2020-12-14 19:58:46 (47.2 MB/s) - ‘data/index.html.tmp’ saved [29175]\n",
            "\n",
            "Loading robots.txt; please ignore errors.\n",
            "--2020-12-14 19:58:46--  http://yann.lecun.com/robots.txt\n",
            "Reusing existing connection to yann.lecun.com:80.\n",
            "HTTP request sent, awaiting response... 404 Not Found\n",
            "2020-12-14 19:58:46 ERROR 404: Not Found.\n",
            "\n",
            "Removing data/index.html.tmp since it should be rejected.\n",
            "\n",
            "--2020-12-14 19:58:46--  http://yann.lecun.com/\n",
            "Reusing existing connection to yann.lecun.com:80.\n",
            "HTTP request sent, awaiting response... 200 OK\n",
            "Length: unspecified [text/html]\n",
            "Saving to: ‘data/index.html.tmp’\n",
            "\n",
            "index.html.tmp          [ <=>                ]  37.65K  --.-KB/s    in 0.001s  \n",
            "\n",
            "2020-12-14 19:58:46 (26.7 MB/s) - ‘data/index.html.tmp’ saved [38556]\n",
            "\n",
            "Removing data/index.html.tmp since it should be rejected.\n",
            "\n",
            "--2020-12-14 19:58:46--  http://yann.lecun.com/exdb/mnist/train-images-idx3-ubyte.gz\n",
            "Reusing existing connection to yann.lecun.com:80.\n",
            "HTTP request sent, awaiting response... 200 OK\n",
            "Length: 9912422 (9.5M) [application/x-gzip]\n",
            "Saving to: ‘data/train-images-idx3-ubyte.gz’\n",
            "\n",
            "train-images-idx3-u 100%[===================>]   9.45M  2.89MB/s    in 3.4s    \n",
            "\n",
            "2020-12-14 19:58:50 (2.77 MB/s) - ‘data/train-images-idx3-ubyte.gz’ saved [9912422/9912422]\n",
            "\n",
            "--2020-12-14 19:58:50--  http://yann.lecun.com/exdb/mnist/train-labels-idx1-ubyte.gz\n",
            "Reusing existing connection to yann.lecun.com:80.\n",
            "HTTP request sent, awaiting response... 200 OK\n",
            "Length: 28881 (28K) [application/x-gzip]\n",
            "Saving to: ‘data/train-labels-idx1-ubyte.gz’\n",
            "\n",
            "train-labels-idx1-u 100%[===================>]  28.20K  --.-KB/s    in 0.07s   \n",
            "\n",
            "2020-12-14 19:58:50 (419 KB/s) - ‘data/train-labels-idx1-ubyte.gz’ saved [28881/28881]\n",
            "\n",
            "--2020-12-14 19:58:50--  http://yann.lecun.com/exdb/mnist/t10k-images-idx3-ubyte.gz\n",
            "Reusing existing connection to yann.lecun.com:80.\n",
            "HTTP request sent, awaiting response... 200 OK\n",
            "Length: 1648877 (1.6M) [application/x-gzip]\n",
            "Saving to: ‘data/t10k-images-idx3-ubyte.gz’\n",
            "\n",
            "t10k-images-idx3-ub 100%[===================>]   1.57M  3.76MB/s    in 0.4s    \n",
            "\n",
            "2020-12-14 19:58:51 (3.76 MB/s) - ‘data/t10k-images-idx3-ubyte.gz’ saved [1648877/1648877]\n",
            "\n",
            "--2020-12-14 19:58:51--  http://yann.lecun.com/exdb/mnist/t10k-labels-idx1-ubyte.gz\n",
            "Reusing existing connection to yann.lecun.com:80.\n",
            "HTTP request sent, awaiting response... 200 OK\n",
            "Length: 4542 (4.4K) [application/x-gzip]\n",
            "Saving to: ‘data/t10k-labels-idx1-ubyte.gz’\n",
            "\n",
            "t10k-labels-idx1-ub 100%[===================>]   4.44K  --.-KB/s    in 0s      \n",
            "\n",
            "2020-12-14 19:58:51 (672 MB/s) - ‘data/t10k-labels-idx1-ubyte.gz’ saved [4542/4542]\n",
            "\n",
            "FINISHED --2020-12-14 19:58:51--\n",
            "Total wall clock time: 4.9s\n",
            "Downloaded: 6 files, 11M in 3.9s (2.85 MB/s)\n",
            "/content/data /content\n",
            "/content\n",
            "Collecting emnist\n",
            "  Downloading https://files.pythonhosted.org/packages/d1/f4/78b24acbef9e8fe976dda700f16a3606f3b8363b015bc555f8050fbbd8ac/emnist-0.0-py3-none-any.whl\n",
            "Requirement already satisfied: numpy in /usr/local/lib/python3.6/dist-packages (from emnist) (1.18.5)\n",
            "Requirement already satisfied: tqdm in /usr/local/lib/python3.6/dist-packages (from emnist) (4.41.1)\n",
            "Requirement already satisfied: requests in /usr/local/lib/python3.6/dist-packages (from emnist) (2.23.0)\n",
            "Requirement already satisfied: idna<3,>=2.5 in /usr/local/lib/python3.6/dist-packages (from requests->emnist) (2.10)\n",
            "Requirement already satisfied: certifi>=2017.4.17 in /usr/local/lib/python3.6/dist-packages (from requests->emnist) (2020.12.5)\n",
            "Requirement already satisfied: urllib3!=1.25.0,!=1.25.1,<1.26,>=1.21.1 in /usr/local/lib/python3.6/dist-packages (from requests->emnist) (1.24.3)\n",
            "Requirement already satisfied: chardet<4,>=3.0.2 in /usr/local/lib/python3.6/dist-packages (from requests->emnist) (3.0.4)\n",
            "Installing collected packages: emnist\n",
            "Successfully installed emnist-0.0\n"
          ],
          "name": "stdout"
        }
      ]
    },
    {
      "cell_type": "code",
      "metadata": {
        "id": "HD3Qaow8CpMB",
        "colab": {
          "base_uri": "https://localhost:8080/"
        },
        "outputId": "a39cf46b-1dd7-454d-9ceb-83aa8ac69ebe"
      },
      "source": [
        "# Grab the data from the OpenML website\n",
        "# X will be our images and y will be the labels\n",
        "X, y = extract_training_samples('letters')\n",
        "\n",
        "# Make every pixel in all of the images in 0-1 range\n",
        "X = X / 255\n",
        "\n",
        "# Train the first 120k samples and rest of for testing\n",
        "X_train, X_test = X[:120000], X[120000:]\n",
        "y_train, y_test = y[:120000], y[120000:]\n",
        "\n",
        "# record the number of samples in each dataset and the number of pixels in each image\n",
        "X_train = X_train.reshape(120000,784)\n",
        "X_test = X_test.reshape(-1,784)"
      ],
      "execution_count": null,
      "outputs": [
        {
          "output_type": "stream",
          "text": [
            "Downloading emnist.zip: 536MB [00:04, 117MB/s]\n"
          ],
          "name": "stderr"
        }
      ]
    },
    {
      "cell_type": "code",
      "metadata": {
        "colab": {
          "base_uri": "https://localhost:8080/",
          "height": 301
        },
        "id": "8ZFvq6PLCNrM",
        "outputId": "834c5ea3-86f1-496a-839d-258d7000b28c"
      },
      "source": [
        "# Look at an image in the training set\n",
        "img_index = 8999        #<---------- Change the index for different letters\n",
        "\n",
        "img = X_train[img_index]\n",
        "print(\"Image Label: \" + str(chr(y_train[img_index]+96)))\n",
        "plt.imshow(img.reshape((28,28)))\n"
      ],
      "execution_count": null,
      "outputs": [
        {
          "output_type": "stream",
          "text": [
            "Image Label: l\n"
          ],
          "name": "stdout"
        },
        {
          "output_type": "execute_result",
          "data": {
            "text/plain": [
              "<matplotlib.image.AxesImage at 0x7f32994a6588>"
            ]
          },
          "metadata": {
            "tags": []
          },
          "execution_count": 5
        },
        {
          "output_type": "display_data",
          "data": {
            "image/png": "[encoded data removed]",
            "text/plain": [
              "<Figure size 432x288 with 1 Axes>"
            ]
          },
          "metadata": {
            "tags": [],
            "needs_background": "light"
          }
        }
      ]
    },
    {
      "cell_type": "code",
      "metadata": {
        "colab": {
          "base_uri": "https://localhost:8080/"
        },
        "id": "w9SQMDTuDdhp",
        "outputId": "168a8bac-f5dc-4b9f-b0f8-cad0daaa509f"
      },
      "source": [
        "# MLP with 6 hidden layer using ReLU and sets it to run through the data 100 times\n",
        "mlp = MLPClassifier(hidden_layer_sizes=(100,100,100, ), max_iter=50, alpha=1e-4,\n",
        "                    solver='adam', verbose=10, tol=1e-4, random_state=1,\n",
        "                    learning_rate_init=.001)\n",
        "\n",
        "# Train\n",
        "mlp.fit(X_train, y_train)\n",
        "print(\"Training set score: %.2f\" % mlp.score(X_train, y_train))\n",
        "print(\"Validation set score: %.2f\" % mlp.score(X_test, y_test))"
      ],
      "execution_count": null,
      "outputs": [
        {
          "output_type": "stream",
          "text": [
            "Iteration 1, loss = 0.91011316\n",
            "Iteration 2, loss = 0.46577509\n",
            "Iteration 3, loss = 0.38315568\n",
            "Iteration 4, loss = 0.34014784\n",
            "Iteration 5, loss = 0.30935796\n",
            "Iteration 6, loss = 0.28549147\n",
            "Iteration 7, loss = 0.26858337\n",
            "Iteration 8, loss = 0.25259691\n",
            "Iteration 9, loss = 0.24041870\n",
            "Iteration 10, loss = 0.22976217\n",
            "Iteration 11, loss = 0.21714487\n",
            "Iteration 12, loss = 0.20721911\n",
            "Iteration 13, loss = 0.20053180\n",
            "Iteration 14, loss = 0.19218773\n",
            "Iteration 15, loss = 0.18594062\n",
            "Iteration 16, loss = 0.17913850\n",
            "Iteration 17, loss = 0.17146724\n",
            "Iteration 18, loss = 0.16611445\n",
            "Iteration 19, loss = 0.16031159\n",
            "Iteration 20, loss = 0.15810837\n",
            "Iteration 21, loss = 0.15096544\n",
            "Iteration 22, loss = 0.14680200\n",
            "Iteration 23, loss = 0.14328250\n",
            "Iteration 24, loss = 0.13851969\n",
            "Iteration 25, loss = 0.13470790\n",
            "Iteration 26, loss = 0.13116775\n",
            "Iteration 27, loss = 0.12709012\n",
            "Iteration 28, loss = 0.12468189\n",
            "Iteration 29, loss = 0.12283003\n",
            "Iteration 30, loss = 0.11807687\n",
            "Iteration 31, loss = 0.11524197\n",
            "Iteration 32, loss = 0.11430646\n",
            "Iteration 33, loss = 0.11105299\n",
            "Iteration 34, loss = 0.10540537\n",
            "Iteration 35, loss = 0.10435127\n",
            "Iteration 36, loss = 0.10376495\n",
            "Iteration 37, loss = 0.10196067\n",
            "Iteration 38, loss = 0.09934245\n",
            "Iteration 39, loss = 0.09674234\n",
            "Iteration 40, loss = 0.09785607\n",
            "Iteration 41, loss = 0.09532431\n",
            "Iteration 42, loss = 0.09434062\n",
            "Iteration 43, loss = 0.09005099\n",
            "Iteration 44, loss = 0.09069269\n",
            "Iteration 45, loss = 0.08979689\n",
            "Iteration 46, loss = 0.08803942\n",
            "Iteration 47, loss = 0.08538997\n",
            "Iteration 48, loss = 0.08602555\n",
            "Iteration 49, loss = 0.08781637\n",
            "Iteration 50, loss = 0.08181872\n"
          ],
          "name": "stdout"
        },
        {
          "output_type": "stream",
          "text": [
            "/usr/local/lib/python3.6/dist-packages/sklearn/neural_network/_multilayer_perceptron.py:571: ConvergenceWarning: Stochastic Optimizer: Maximum iterations (50) reached and the optimization hasn't converged yet.\n",
            "  % self.max_iter, ConvergenceWarning)\n"
          ],
          "name": "stderr"
        },
        {
          "output_type": "stream",
          "text": [
            "Training set score: 0.96\n",
            "Validation set score: 0.89\n"
          ],
          "name": "stdout"
        }
      ]
    },
    {
      "cell_type": "code",
      "metadata": {
        "colab": {
          "base_uri": "https://localhost:8080/",
          "height": 293
        },
        "id": "ieEG6DHWDsjg",
        "outputId": "1c843715-7d19-4fea-b556-1241b539a16d"
      },
      "source": [
        "# First initialize a list with all the predicted values from the training set\r\n",
        "y_pred = mlp.predict(X_test)\r\n",
        "\r\n",
        "# Visualize the errors between the predictions and the actual labels using a confusion matrix\r\n",
        "from sklearn.metrics import confusion_matrix\r\n",
        "cm = confusion_matrix(y_test, y_pred)\r\n",
        "plt.matshow(cm)"
      ],
      "execution_count": null,
      "outputs": [
        {
          "output_type": "execute_result",
          "data": {
            "text/plain": [
              "<matplotlib.image.AxesImage at 0x7f329822e048>"
            ]
          },
          "metadata": {
            "tags": []
          },
          "execution_count": 23
        },
        {
          "output_type": "display_data",
          "data": {
            "image/png": "[encoded data removed]",
            "text/plain": [
              "<Figure size 288x288 with 1 Axes>"
            ]
          },
          "metadata": {
            "tags": [],
            "needs_background": "light"
          }
        }
      ]
    },
    {
      "cell_type": "code",
      "metadata": {
        "colab": {
          "base_uri": "https://localhost:8080/",
          "height": 283
        },
        "id": "4Vncy06_D4sW",
        "outputId": "51a1f7df-0b89-4e91-d1b0-d0354e249ee0"
      },
      "source": [
        "# Change this to any letters that you think the neural network have a hard time confused with each other.\r\n",
        "predicted_letter = 'l'\r\n",
        "actual_letter = 'i'\r\n",
        "\r\n",
        "\r\n",
        "# Put all the mistakes in the list and counts all mistakes for the letters above\r\n",
        "mistake_list = []\r\n",
        "for i in range(len(y_test)):\r\n",
        "  if (y_test[i] == (ord(actual_letter) - 96) and y_pred[i] == (ord(predicted_letter) - 96)):\r\n",
        "    mistake_list.append(i)\r\n",
        "print(\"There were \" + str(len(mistake_list)) + \" times that the letter \" + actual_letter + \" was predicted to be the letter \" + predicted_letter + \".\")\r\n",
        "\r\n",
        "# Change the index below to see different mistakes\r\n",
        "mistake_index = 7\r\n",
        "\r\n",
        "# Draw the mistake image\r\n",
        "if (len(mistake_list)> mistake_index):\r\n",
        "  img = X_test[mistake_list[mistake_index]]\r\n",
        "  plt.imshow(img.reshape((28,28)))\r\n"
      ],
      "execution_count": null,
      "outputs": [
        {
          "output_type": "stream",
          "text": [
            "There were 60 times that the letter i was predicted to be the letter l.\n"
          ],
          "name": "stdout"
        },
        {
          "output_type": "display_data",
          "data": {
            "image/png": "[encoded data removed]",
            "text/plain": [
              "<Figure size 432x288 with 1 Axes>"
            ]
          },
          "metadata": {
            "tags": [],
            "needs_background": "light"
          }
        }
      ]
    },
    {
      "cell_type": "code",
      "metadata": {
        "colab": {
          "base_uri": "https://localhost:8080/",
          "height": 301
        },
        "id": "c_va_dXvWAu5",
        "outputId": "9fa4407a-2f0e-41a0-e3c6-570ce6e5434b"
      },
      "source": [
        "# Get an Image\n",
        "# Use this to get online images into Google Colab local drive: \n",
        "#!wget \"replace this sentence with an image address\"\n",
        "img = cv2.imread(\"letter w.jpg\", cv2.IMREAD_GRAYSCALE)  # Put the image name in the string \"image name here\"\n",
        "\n",
        "#Preprocessing\n",
        "#Invert the color to make background black and letter white\n",
        "img = cv2.bitwise_not(img)\n",
        "\n",
        "# Apply Gaussian blur filter\n",
        "img = cv2.GaussianBlur(img, (7,7), 0)\n",
        "\n",
        "# Resize and resample to be 28 x 28 pixels\n",
        "img = cv2.resize(img, (28,28), interpolation = cv2.INTER_CUBIC)\n",
        "\n",
        "# Normalize pixels and reshape \n",
        "img = img/255\n",
        "img = img.reshape((28,28))\n",
        "\n",
        "# Predict the letter\n",
        "prediction = mlp.predict(numpy.array(img).reshape(-1,784))\n",
        "print('Prediction: '+str(chr(prediction[0]+96)))\n",
        "plt.imshow(img.reshape((28,28)))"
      ],
      "execution_count": null,
      "outputs": [
        {
          "output_type": "stream",
          "text": [
            "Prediction: w\n"
          ],
          "name": "stdout"
        },
        {
          "output_type": "execute_result",
          "data": {
            "text/plain": [
              "<matplotlib.image.AxesImage at 0x7f3298247f60>"
            ]
          },
          "metadata": {
            "tags": []
          },
          "execution_count": 21
        },
        {
          "output_type": "display_data",
          "data": {
            "image/png": "[encoded data removed]",
            "text/plain": [
              "<Figure size 432x288 with 1 Axes>"
            ]
          },
          "metadata": {
            "tags": [],
            "needs_background": "light"
          }
        }
      ]
    },
    {
      "cell_type": "code",
      "metadata": {
        "id": "ZLZAYJe8rjti"
      },
      "source": [
        ""
      ],
      "execution_count": null,
      "outputs": []
    }
  ]
}